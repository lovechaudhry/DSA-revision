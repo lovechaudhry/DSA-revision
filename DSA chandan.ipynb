{
 "cells": [
  {
   "cell_type": "markdown",
   "id": "f4d9f899",
   "metadata": {},
   "source": [
    "# name= input(\"what is your superheroname\")\n",
    "print(name)"
   ]
  },
  {
   "cell_type": "code",
   "execution_count": 5,
   "id": "713b78f2",
   "metadata": {},
   "outputs": [
    {
     "name": "stdout",
     "output_type": "stream",
     "text": [
      "3.0\n"
     ]
    }
   ],
   "source": [
    "# You have an array of integers, nums of length n spanning 0 to n with one missing. Write a function missing_number that returns the missing number in the array.\n",
    "\n",
    "# Note: Complexity of \n",
    "# O\n",
    "# (\n",
    "# n\n",
    "# )\n",
    "# O(n) required.\n",
    "\n",
    "# Example:\n",
    "\n",
    "# Input:\n",
    "\n",
    "# nums = [0,1,2,4,5] \n",
    "\n",
    "def find_missing(nums):\n",
    "    n= len(nums)\n",
    "    actual_sum= n*(n+1)/2\n",
    "    expected_sum= sum(nums)\n",
    "    \n",
    "    return  actual_sum - expected_sum \n",
    "\n",
    "\n",
    "nums = [0, 1, 2, 4, 5]\n",
    "print(find_missing(nums))\n",
    "    "
   ]
  },
  {
   "cell_type": "code",
   "execution_count": 13,
   "id": "f0afd223",
   "metadata": {},
   "outputs": [
    {
     "name": "stdout",
     "output_type": "stream",
     "text": [
      "2\n"
     ]
    }
   ],
   "source": [
    "# Given a dictionary with weights, write a function random_key that returns a key at random with a probability proportional to the weights.\n",
    "\n",
    "# Example 1:\n",
    "\n",
    "# Input:\n",
    "\n",
    "#c\n",
    "# Output:\n",
    "\n",
    "# random_key(weights) -> return A 1/3 of the time, B 2/3 of the time\n",
    "# Example 2:\n",
    "\n",
    "# Input:\n",
    "\n",
    "# weights = {'A': 1, 'B': 1}\n",
    "# Output:\n",
    "\n",
    "# random_key(weights) -> return A 1/2  of the time, B 1/2  of the time\n",
    "def random_weight(weights):\n",
    "     return sum(weights.values())\n",
    "\n",
    "weights = {'A': 1, 'B': 1}\n",
    "print(random_weight(weights))"
   ]
  },
  {
   "cell_type": "code",
   "execution_count": 2,
   "id": "b9604df5",
   "metadata": {},
   "outputs": [
    {
     "name": "stdout",
     "output_type": "stream",
     "text": [
      "enter first number2\n",
      "enter second no435\n",
      "437\n"
     ]
    }
   ],
   "source": [
    "first=input(\"enter first number\")\n",
    "second= input(\"enter second no\")\n",
    "sum= int(first)+int(second)\n",
    "print(sum)"
   ]
  },
  {
   "cell_type": "code",
   "execution_count": 6,
   "id": "40fe149f",
   "metadata": {},
   "outputs": [
    {
     "data": {
      "text/plain": [
       "0"
      ]
     },
     "execution_count": 6,
     "metadata": {},
     "output_type": "execute_result"
    }
   ],
   "source": [
    "name= \"tony\"\n",
    "name.find('t')"
   ]
  },
  {
   "cell_type": "code",
   "execution_count": 10,
   "id": "732e9e79",
   "metadata": {},
   "outputs": [
    {
     "name": "stdout",
     "output_type": "stream",
     "text": [
      "11\n"
     ]
    }
   ],
   "source": [
    "result=2+(3*3)\n",
    "print(result)"
   ]
  },
  {
   "cell_type": "markdown",
   "id": "0ef8422b",
   "metadata": {},
   "source": [
    "# # pyhton argument"
   ]
  },
  {
   "cell_type": "code",
   "execution_count": 4,
   "id": "ba1b245c",
   "metadata": {},
   "outputs": [
    {
     "name": "stdout",
     "output_type": "stream",
     "text": [
      "are you from cs department\n"
     ]
    }
   ],
   "source": [
    "def greet(name, department):\n",
    "    print(f\"are you from{department} department\")\n",
    "greet(\"chandan\",\" cs\")"
   ]
  },
  {
   "cell_type": "code",
   "execution_count": 5,
   "id": "e64129fe",
   "metadata": {},
   "outputs": [
    {
     "name": "stdout",
     "output_type": "stream",
     "text": [
      " Hichandan\n",
      " are you from  cs\n"
     ]
    }
   ],
   "source": [
    "def greet(name, dept):\n",
    "    print(f\" Hi{name}\")\n",
    "    print(f\" are you from  {dept}\")\n",
    "greet(\"chandan\", dept=\"cs\")"
   ]
  },
  {
   "cell_type": "markdown",
   "id": "f4036225",
   "metadata": {},
   "source": [
    "# # default argument"
   ]
  },
  {
   "cell_type": "code",
   "execution_count": 7,
   "id": "c0657980",
   "metadata": {},
   "outputs": [
    {
     "name": "stdout",
     "output_type": "stream",
     "text": [
      " Hichandan\n",
      " are yoyu from CS which pyhton\n"
     ]
    }
   ],
   "source": [
    "def greet(name, dept, subject=\"pyhton\"):\n",
    "    print(f\" Hi{name}\")\n",
    "    print(f\" are yoyu from {dept} which {subject}\")\n",
    "greet(\"chandan\", \"CS\")\n",
    "    \n",
    "    "
   ]
  },
  {
   "cell_type": "markdown",
   "id": "ae858124",
   "metadata": {},
   "source": [
    "# # arbitary argument"
   ]
  },
  {
   "cell_type": "code",
   "execution_count": 15,
   "id": "58183bcf",
   "metadata": {},
   "outputs": [
    {
     "name": "stdout",
     "output_type": "stream",
     "text": [
      "5\n",
      "12\n",
      "21\n"
     ]
    }
   ],
   "source": [
    "def add(*num):\n",
    "    c=0\n",
    "    for i in num:\n",
    "        \n",
    "        c=c+i\n",
    "        print(c)\n",
    "add(5,7,9)"
   ]
  },
  {
   "cell_type": "code",
   "execution_count": 1,
   "id": "f647c162",
   "metadata": {},
   "outputs": [
    {
     "name": "stdout",
     "output_type": "stream",
     "text": [
      "{'IT & Software': ['Software Developer', 'Web Developer', 'Data Scientist', 'Machine Learning Engineer', 'Cybersecurity Analyst'], 'Engineering': ['Mechanical Engineer', 'Electrical Engineer', 'Civil Engineer', 'Embedded Systems Engineer', 'Automation Engineer'], 'Finance & Accounting': ['Financial Analyst', 'Accountant', 'Investment Banker', 'Tax Consultant', 'Auditor'], 'Healthcare': ['Doctor', 'Nurse', 'Pharmacist', 'Medical Researcher', 'Physiotherapist'], 'Marketing & Sales': ['Digital Marketer', 'Sales Executive', 'Content Strategist', 'SEO Specialist', 'Market Research Analyst'], 'Education': ['Teacher', 'Professor', 'Tutor', 'Education Consultant', 'E-learning Developer'], 'Customer Service': ['Call Center Representative', 'Customer Support Specialist', 'Help Desk Technician', 'Client Relations Manager', 'Technical Support Engineer']}\n"
     ]
    }
   ],
   "source": [
    "job_categories = {\n",
    "    \"IT & Software\": [\n",
    "        \"Software Developer\",\n",
    "        \"Web Developer\",\n",
    "        \"Data Scientist\",\n",
    "        \"Machine Learning Engineer\",\n",
    "        \"Cybersecurity Analyst\"\n",
    "    ],\n",
    "    \"Engineering\": [\n",
    "        \"Mechanical Engineer\",\n",
    "        \"Electrical Engineer\",\n",
    "        \"Civil Engineer\",\n",
    "        \"Embedded Systems Engineer\",\n",
    "        \"Automation Engineer\"\n",
    "    ],\n",
    "    \"Finance & Accounting\": [\n",
    "        \"Financial Analyst\",\n",
    "        \"Accountant\",\n",
    "        \"Investment Banker\",\n",
    "        \"Tax Consultant\",\n",
    "        \"Auditor\"\n",
    "    ],\n",
    "    \"Healthcare\": [\n",
    "        \"Doctor\",\n",
    "        \"Nurse\",\n",
    "        \"Pharmacist\",\n",
    "        \"Medical Researcher\",\n",
    "        \"Physiotherapist\"\n",
    "    ],\n",
    "    \"Marketing & Sales\": [\n",
    "        \"Digital Marketer\",\n",
    "        \"Sales Executive\",\n",
    "        \"Content Strategist\",\n",
    "        \"SEO Specialist\",\n",
    "        \"Market Research Analyst\"\n",
    "    ],\n",
    "    \"Education\": [\n",
    "        \"Teacher\",\n",
    "        \"Professor\",\n",
    "        \"Tutor\",\n",
    "        \"Education Consultant\",\n",
    "        \"E-learning Developer\"\n",
    "    ],\n",
    "    \"Customer Service\": [\n",
    "        \"Call Center Representative\",\n",
    "        \"Customer Support Specialist\",\n",
    "        \"Help Desk Technician\",\n",
    "        \"Client Relations Manager\",\n",
    "        \"Technical Support Engineer\"\n",
    "    ]\n",
    "}\n",
    "\n",
    "print(job_categories)\n"
   ]
  },
  {
   "cell_type": "code",
   "execution_count": 20,
   "id": "bb03dc32",
   "metadata": {},
   "outputs": [
    {
     "data": {
      "text/plain": [
       "('Marketing & Sales', 'SEO Specialist')"
      ]
     },
     "execution_count": 20,
     "metadata": {},
     "output_type": "execute_result"
    }
   ],
   "source": [
    "import  random\n",
    "random_category = random.choice(list(job_categories.keys()))\n",
    "random_job = random.choice(job_categories[random_category])\n",
    "\n",
    "(random_category, random_job)"
   ]
  },
  {
   "cell_type": "code",
   "execution_count": 21,
   "id": "d5f2c3b0",
   "metadata": {},
   "outputs": [
    {
     "name": "stdout",
     "output_type": "stream",
     "text": [
      "{'Web Developer', 'Machine Learning Engineer', 'Data Scientist', 'Cybersecurity Analyst', 'IT & Software', 'Software Developer'}\n"
     ]
    }
   ],
   "source": [
    "job_categories = {\n",
    "    \"IT & Software\",\n",
    "        \"Software Developer\",\n",
    "        \"Web Developer\",\n",
    "        \"Data Scientist\",\n",
    "        \"Machine Learning Engineer\",\n",
    "        \"Cybersecurity Analyst\"\n",
    "}\n",
    "print(job_categories)"
   ]
  },
  {
   "cell_type": "code",
   "execution_count": 32,
   "id": "1bb728a7",
   "metadata": {},
   "outputs": [
    {
     "data": {
      "text/plain": [
       "'IT & Software'"
      ]
     },
     "execution_count": 32,
     "metadata": {},
     "output_type": "execute_result"
    }
   ],
   "source": [
    "import random\n",
    "random_category=random.choice(list(job_categories))\n",
    "\n",
    "random_category                           "
   ]
  },
  {
   "cell_type": "code",
   "execution_count": 2,
   "id": "f99ddfdc",
   "metadata": {},
   "outputs": [],
   "source": [
    "class Node:\n",
    "    def __init__(self, item=None, next=None):\n",
    "        self.item=item\n",
    "        self.next=none"
   ]
  },
  {
   "cell_type": "code",
   "execution_count": 1,
   "id": "31f880a3",
   "metadata": {},
   "outputs": [],
   "source": [
    "class CLL:\n",
    "    def __init__(self,last=None):\n",
    "        self.last=last\n",
    "        \n",
    "    def insert_at_start(self, data):\n",
    "        n = Node(data)\n",
    "        if self.is_empty():\n",
    "            n.next=n\n",
    "            self.last=n\n",
    "        else:\n",
    "            n.next=self.lat.next\n",
    "            self.last.next=n\n",
    "    def insert_at_last(self,data):\n",
    "        n= Node(data)\n",
    "        if(self.isempty()):\n",
    "            n.next=n\n",
    "            self.last=n\n",
    "        else:\n",
    "            n.next=self. last.next\n",
    "            self.last.next=n\n",
    "            self.last=n\n",
    "    def search(self,data):\n",
    "        temp=self.last.next\n",
    "        while temp!=self.last:\n",
    "            if temp.item==data:\n",
    "                return\n",
    "            temp=temp.next\n",
    "        if temp.item==data:\n",
    "            return\n",
    "        return\n",
    "    def delete_first(self,data):\n",
    "        "
   ]
  },
  {
   "cell_type": "code",
   "execution_count": 1,
   "id": "2f57c34d",
   "metadata": {},
   "outputs": [],
   "source": [
    "# stack "
   ]
  },
  {
   "cell_type": "code",
   "execution_count": 2,
   "id": "0bbe6a2a",
   "metadata": {},
   "outputs": [],
   "source": [
    "## stack is a linear data structure working principle of stack is LIFO"
   ]
  },
  {
   "cell_type": "code",
   "execution_count": 3,
   "id": "92ec87fe",
   "metadata": {},
   "outputs": [],
   "source": [
    "## push \n",
    "# pop\n",
    "# is_empty\n",
    "# peek\n",
    "# size"
   ]
  },
  {
   "cell_type": "markdown",
   "id": "f9ad1d5d",
   "metadata": {},
   "source": [
    "# programming example\n",
    "# Evaluating expression\n",
    "# paranthesis matching\n",
    "# binary tree\n",
    "# DFS\n",
    "# undo-redo operation"
   ]
  },
  {
   "cell_type": "markdown",
   "id": "580a25b0",
   "metadata": {},
   "source": [
    "# Implementattion of stack\n",
    "## using list\n",
    "## by extending list class\n",
    "## using singly linked list class\n",
    "## by extending singly linked list class\n",
    "## using linked list concept"
   ]
  },
  {
   "cell_type": "code",
   "execution_count": 1,
   "id": "c43e5286",
   "metadata": {},
   "outputs": [
    {
     "ename": "AttributeError",
     "evalue": "'Stack' object has no attribute 'items'",
     "output_type": "error",
     "traceback": [
      "\u001b[1;31m---------------------------------------------------------------------------\u001b[0m",
      "\u001b[1;31mAttributeError\u001b[0m                            Traceback (most recent call last)",
      "Cell \u001b[1;32mIn[1], line 21\u001b[0m\n\u001b[0;32m     19\u001b[0m         \u001b[38;5;28;01mreturn\u001b[39;00m \u001b[38;5;28mlen\u001b[39m(\u001b[38;5;28mself\u001b[39m\u001b[38;5;241m.\u001b[39mitems)\n\u001b[0;32m     20\u001b[0m s1\u001b[38;5;241m=\u001b[39mStack()\n\u001b[1;32m---> 21\u001b[0m \u001b[43ms1\u001b[49m\u001b[38;5;241;43m.\u001b[39;49m\u001b[43mpush\u001b[49m\u001b[43m(\u001b[49m\u001b[38;5;241;43m1\u001b[39;49m\u001b[43m)\u001b[49m\n",
      "Cell \u001b[1;32mIn[1], line 7\u001b[0m, in \u001b[0;36mStack.push\u001b[1;34m(self, data)\u001b[0m\n\u001b[0;32m      6\u001b[0m \u001b[38;5;28;01mdef\u001b[39;00m \u001b[38;5;21mpush\u001b[39m(\u001b[38;5;28mself\u001b[39m,data):\n\u001b[1;32m----> 7\u001b[0m     \u001b[38;5;28;43mself\u001b[39;49m\u001b[38;5;241;43m.\u001b[39;49m\u001b[43mitems\u001b[49m\u001b[38;5;241m.\u001b[39mappend(data)\n",
      "\u001b[1;31mAttributeError\u001b[0m: 'Stack' object has no attribute 'items'"
     ]
    }
   ],
   "source": [
    "class Stack:\n",
    "    def __init___(self):\n",
    "        self.items=[]\n",
    "    def is_empty(self):\n",
    "         return len(self.items)==0\n",
    "    def push(self,data):\n",
    "        self.items.append(data)\n",
    "    def pop(self):\n",
    "        if not self.is_empty():\n",
    "            return self.items.pop()\n",
    "        else:\n",
    "            raise IndexError(\"stack is empty\")\n",
    "    def peek(self):\n",
    "        if not self.is_empty():\n",
    "            return self.item[-1]\n",
    "        else:\n",
    "            raise IndexError(\"stack is empty\")\n",
    "    def size(self):\n",
    "        return len(self.items)\n",
    "s1=Stack()\n",
    "s1.push(1)"
   ]
  },
  {
   "cell_type": "markdown",
   "id": "aba8826f",
   "metadata": {},
   "source": [
    "# Stack using inherit class"
   ]
  },
  {
   "cell_type": "code",
   "execution_count": null,
   "id": "cf1adccd",
   "metadata": {},
   "outputs": [],
   "source": [
    "class Stack(list):\n",
    "    \n",
    "    def is_emplty(self):\n",
    "        return len(self)==0\n",
    "    def push(self,data):\n",
    "        self.append(data)\n",
    "    def pop(self):\n",
    "        if not self.is_empty():\n",
    "            super().pop()\n",
    "        else:\n",
    "            raise(\"jdhhjdgdghv\")\n",
    "    def peek(self):\n",
    "        if not self.is_empty():\n",
    "            return self([-1])\n",
    "        else:\n",
    "            raise IndexError(\"stack is empty\")\n",
    "    def insert(self,index,data):\n",
    "        raise AttributeError(\"no attr in the list\")"
   ]
  },
  {
   "cell_type": "markdown",
   "id": "98d64301",
   "metadata": {},
   "source": [
    "# Stack using a singly linked list "
   ]
  },
  {
   "cell_type": "code",
   "execution_count": 2,
   "id": "0eb2bea9",
   "metadata": {},
   "outputs": [],
   "source": [
    "class Stack:\n",
    "    def __init__(self):\n",
    "        self.head=None\n",
    "        self.count=0\n",
    "    def is_empty(self):\n",
    "        return self.head is None\n",
    "    def push(self,data):\n",
    "        n=Node(data,self.start)\n",
    "        self.start=n\n",
    "        self.count+=1\n",
    "    def pop(self):\n",
    "        if not self.is_empty():\n",
    "            data=self.start.item\n",
    "            self.start= self.start.next\n",
    "            self.count-=1\n",
    "            return data\n",
    "        else:\n",
    "            return False\n",
    "    def peek(self):\n",
    "        if not self.is_empty():\n",
    "            return self.start.item\n",
    "        else:\n",
    "            raise IndexError(\"stack is empty\")\n",
    "        \n",
    "    def size(self):\n",
    "        return self.count\n",
    "            \n",
    "            "
   ]
  },
  {
   "cell_type": "code",
   "execution_count": 5,
   "id": "05128fb1",
   "metadata": {},
   "outputs": [
    {
     "name": "stdout",
     "output_type": "stream",
     "text": [
      "Collecting llist\n",
      "  Downloading llist-0.7.1.tar.gz (42 kB)\n",
      "  Preparing metadata (setup.py): started\n",
      "  Preparing metadata (setup.py): finished with status 'done'\n",
      "Building wheels for collected packages: llist\n",
      "  Building wheel for llist (setup.py): started\n",
      "  Building wheel for llist (setup.py): finished with status 'done'\n",
      "  Created wheel for llist: filename=llist-0.7.1-cp310-cp310-win_amd64.whl size=20388 sha256=e6b3c68bc553d8a70f7ed78e0a1cdf5646dfac4636e1a189f24382426dc1f59e\n",
      "  Stored in directory: c:\\users\\chand\\appdata\\local\\pip\\cache\\wheels\\e9\\91\\41\\252becb26acf296e14913e0ee13940295bc475be57aed9bb2e\n",
      "Successfully built llist\n",
      "Installing collected packages: llist\n",
      "Successfully installed llist-0.7.1\n",
      "Note: you may need to restart the kernel to use updated packages.\n"
     ]
    },
    {
     "name": "stderr",
     "output_type": "stream",
     "text": [
      "WARNING: Ignoring invalid distribution -rotobuf (c:\\users\\chand\\anaconda3\\lib\\site-packages)\n",
      "WARNING: Ignoring invalid distribution -rotobuf (c:\\users\\chand\\anaconda3\\lib\\site-packages)\n",
      "WARNING: Ignoring invalid distribution -rotobuf (c:\\users\\chand\\anaconda3\\lib\\site-packages)\n",
      "\n",
      "[notice] A new release of pip is available: 24.2 -> 25.1.1\n",
      "[notice] To update, run: python.exe -m pip install --upgrade pip\n"
     ]
    }
   ],
   "source": [
    "pip install llist\n"
   ]
  },
  {
   "cell_type": "code",
   "execution_count": 6,
   "id": "9112f6af",
   "metadata": {},
   "outputs": [
    {
     "name": "stdout",
     "output_type": "stream",
     "text": [
      "Requirement already satisfied: pip in c:\\users\\chand\\anaconda3\\lib\\site-packages (24.2)\n",
      "Collecting pip\n",
      "  Downloading pip-25.1.1-py3-none-any.whl.metadata (3.6 kB)\n",
      "Downloading pip-25.1.1-py3-none-any.whl (1.8 MB)\n",
      "   ---------------------------------------- 0.0/1.8 MB ? eta -:--:--\n",
      "   ----- ---------------------------------- 0.3/1.8 MB ? eta -:--:--\n",
      "   ----------- ---------------------------- 0.5/1.8 MB 2.4 MB/s eta 0:00:01\n",
      "   ---------------------- ----------------- 1.0/1.8 MB 2.0 MB/s eta 0:00:01\n",
      "   ---------------------------------- ----- 1.6/1.8 MB 2.2 MB/s eta 0:00:01\n",
      "   ---------------------------------------- 1.8/1.8 MB 2.1 MB/s eta 0:00:00\n",
      "Installing collected packages: pip\n",
      "  Attempting uninstall: pip\n",
      "    Found existing installation: pip 24.2\n",
      "    Uninstalling pip-24.2:\n",
      "      Successfully uninstalled pip-24.2\n",
      "Successfully installed pip-25.1.1\n",
      "Note: you may need to restart the kernel to use updated packages.\n"
     ]
    },
    {
     "name": "stderr",
     "output_type": "stream",
     "text": [
      "WARNING: Ignoring invalid distribution -rotobuf (c:\\users\\chand\\anaconda3\\lib\\site-packages)\n",
      "WARNING: Ignoring invalid distribution -rotobuf (c:\\users\\chand\\anaconda3\\lib\\site-packages)\n",
      "WARNING: Ignoring invalid distribution -rotobuf (c:\\users\\chand\\anaconda3\\lib\\site-packages)\n"
     ]
    }
   ],
   "source": [
    "pip install --upgrade pip"
   ]
  },
  {
   "cell_type": "code",
   "execution_count": 7,
   "id": "874ca8be",
   "metadata": {},
   "outputs": [
    {
     "name": "stdout",
     "output_type": "stream",
     "text": [
      "1 -> 2 -> 3 -> "
     ]
    }
   ],
   "source": [
    "from llist import sllist, sllistnode\n",
    "\n",
    "lst = sllist()\n",
    "lst.append(1)\n",
    "lst.append(2)\n",
    "lst.append(3)\n",
    "\n",
    "node = lst.first\n",
    "while node:\n",
    "    print(node.value, end=\" -> \")\n",
    "    node = node.next\n"
   ]
  },
  {
   "cell_type": "code",
   "execution_count": 8,
   "id": "0843aea1",
   "metadata": {},
   "outputs": [],
   "source": [
    "class Stack:\n",
    "    def __init__(self):\n",
    "        self.mylist=SLL()\n",
    "    def is_empty(self):\n",
    "        return self.mylist.is_empty()\n",
    "    def push(self,data):\n",
    "        self.insert_at_start(data)\n",
    "    def pop(self):\n",
    "        if not self.is_empty():\n",
    "            self.delete_first()\n",
    "        else:\n",
    "            raise Exceptionerror(\"jfrfrifjrfjr\")\n",
    "    def peek(self):\n",
    "        if not self.is_empty():\n",
    "            return self.start.item\n",
    "            \n",
    "       "
   ]
  },
  {
   "cell_type": "markdown",
   "id": "d54e4b21",
   "metadata": {},
   "source": [
    "# QUEUE DATA Structure"
   ]
  },
  {
   "cell_type": "code",
   "execution_count": 1,
   "id": "883a6e01",
   "metadata": {},
   "outputs": [],
   "source": [
    "##  queue is a linear data structure working priniple of queue fifo"
   ]
  },
  {
   "cell_type": "code",
   "execution_count": 1,
   "id": "96d532fb",
   "metadata": {},
   "outputs": [],
   "source": [
    "class Queue:\n",
    "    def __init__(self):\n",
    "        self.items=[]\n",
    "        self.front= None\n",
    "        self.rear = None \n",
    "    def is_empty(self):\n",
    "        return len(self.items)==0\n",
    "    \n",
    "    def enqueue(self,data):\n",
    "        self.items.append(data)\n",
    "    def dequeue(self):\n",
    "        if not self.is_empty():\n",
    "            self.items.pop(0)\n",
    "    def get_front(self):\n",
    "        if not self.is_empty():\n",
    "            return self.items[0]\n",
    "        else:\n",
    "            raise IndexError(\" Queue Underflow\")\n",
    "        \n",
    "    def get_rear(self):\n",
    "        return self.items[-1]\n",
    "    \n",
    "    def size(self):\n",
    "        return len(self.items)\n",
    "q1 = Queue()\n"
   ]
  },
  {
   "cell_type": "markdown",
   "id": "ace82ea0",
   "metadata": {},
   "source": [
    "# Queue Using Singly Linked list "
   ]
  },
  {
   "cell_type": "code",
   "execution_count": 2,
   "id": "c680fc4a",
   "metadata": {},
   "outputs": [
    {
     "ename": "IndentationError",
     "evalue": "unindent does not match any outer indentation level (<tokenize>, line 39)",
     "output_type": "error",
     "traceback": [
      "\u001b[1;36m  File \u001b[1;32m<tokenize>:39\u001b[1;36m\u001b[0m\n\u001b[1;33m    else:\u001b[0m\n\u001b[1;37m    ^\u001b[0m\n\u001b[1;31mIndentationError\u001b[0m\u001b[1;31m:\u001b[0m unindent does not match any outer indentation level\n"
     ]
    }
   ],
   "source": [
    "class Node:\n",
    "    def __init__(self):\n",
    "        self.item=None\n",
    "        self.next=None\n",
    "class Queue:\n",
    "    def __init__(self):\n",
    "        self.front= None\n",
    "        self.rear= None\n",
    "        self.item_count=0\n",
    "    def is_empty(self):\n",
    "        return self.front==None\n",
    "    def enqueue(data,self):\n",
    "        n= Node(data)\n",
    "        if self.is_empty:\n",
    "            self.front=n\n",
    "        else:\n",
    "            self.rear.next=n\n",
    "        self.rear=n\n",
    "        \n",
    "        self.item_count+=1\n",
    "        \n",
    "    def dequeue(self):\n",
    "        if is_empty():\n",
    "            raise IndexError(\"Empty Queue\")\n",
    "        elif self.front==self.rear:\n",
    "            self.front = None\n",
    "            self.rear = None\n",
    "        else:\n",
    "            self.front= self.front.next\n",
    "        self.item_count+=-1\n",
    "    def get_front(self):\n",
    "        if self.is_empty():\n",
    "            raise IndexError(\"No datan in the queue\")\n",
    "        else:\n",
    "            return self.front.item\n",
    "    def get_rear(self):\n",
    "         if self.is_empty():\n",
    "            raise IndexError(\"No datan in the queue\")\n",
    "        else:\n",
    "            return self.rear.item\n",
    "    "
   ]
  },
  {
   "cell_type": "markdown",
   "id": "c4352c88",
   "metadata": {},
   "source": [
    "# # Deque is the another variation of queue is a linear data structure , both ends can be used for insertion and deletion"
   ]
  },
  {
   "cell_type": "code",
   "execution_count": 1,
   "id": "c3f7aaa7",
   "metadata": {},
   "outputs": [],
   "source": [
    " class Deque:\n",
    "        def __init__(self):\n",
    "            self.items=[]\n",
    "        def is_empty(self):\n",
    "            len(self.items)==0\n",
    "        def insert_front (self,data):\n",
    "            self.items.insert(0,data)\n",
    "        def insert_rear(self,data):\n",
    "            self.items.append(data)\n",
    "        "
   ]
  },
  {
   "cell_type": "markdown",
   "id": "805d673a",
   "metadata": {},
   "source": [
    "# Priority Queue\n",
    "## operation on priority queue\n",
    "### push, pop , is_empty, size()"
   ]
  },
  {
   "cell_type": "code",
   "execution_count": 2,
   "id": "50a35f8f",
   "metadata": {},
   "outputs": [],
   "source": [
    "class priorityQueue:\n",
    "    def __init__(self):\n",
    "        self.items=[]\n",
    "    def push(self,data,priority):\n",
    "        index=0\n",
    "        while index<len(self.items) and self.items[index][1]<=priority:\n",
    "            index+=1\n",
    "        self.items.insert(index,(priority,data))\n",
    "    def is_empty(self):\n",
    "        return len(self.items)==0\n",
    "    \n",
    "    def pop(self):\n",
    "        if self.is_empty():\n",
    "            raise IndexError(\"priority Queue is empty\")\n",
    "        return self.items.pop(0)[0]\n",
    "    \n",
    "    def size(self):\n",
    "        return len(self.items)"
   ]
  },
  {
   "cell_type": "markdown",
   "id": "1152d312",
   "metadata": {},
   "source": [
    "# # priority queue using linked list"
   ]
  },
  {
   "cell_type": "code",
   "execution_count": 2,
   "id": "1e118fed",
   "metadata": {},
   "outputs": [],
   "source": [
    "class Node:\n",
    "    def __init(self, item=None, next=None, priority=None):\n",
    "        \n",
    "        self.item= item\n",
    "        self.priority= priority\n",
    "        self.next=next \n",
    "class priorityQueue:\n",
    "    def __init__(self):\n",
    "        self.start=None\n",
    "        self.item_count=0\n",
    "    def push(self,data, priority):\n",
    "        n= Node(data, priority)\n",
    "        if not self.start or  priority<self.start.priority:\n",
    "            n.next = self.start\n",
    "            self.start=n\n",
    "        else:\n",
    "            temp=self.start\n",
    "            while temp.next and temp.next.priority <=priority:\n",
    "                temp= temp.next\n",
    "            n.next= temp.next\n",
    "            temp.next =n \n",
    "            \n",
    "        "
   ]
  },
  {
   "cell_type": "markdown",
   "id": "3e9b65a8",
   "metadata": {},
   "source": [
    "# Recursion"
   ]
  },
  {
   "cell_type": "code",
   "execution_count": 5,
   "id": "87d0d16c",
   "metadata": {},
   "outputs": [
    {
     "name": "stdout",
     "output_type": "stream",
     "text": [
      "5050\n"
     ]
    }
   ],
   "source": [
    "def f1(n):\n",
    "    if n==1:\n",
    "        return 1\n",
    "    s= n+f1(n-1)\n",
    "    return s\n",
    "r=f1(100)\n",
    "print(r)"
   ]
  },
  {
   "cell_type": "markdown",
   "id": "4a9dc39b",
   "metadata": {},
   "source": [
    "# Print first natural no"
   ]
  },
  {
   "cell_type": "code",
   "execution_count": 7,
   "id": "4104194b",
   "metadata": {},
   "outputs": [
    {
     "name": "stdout",
     "output_type": "stream",
     "text": [
      "1 2 3 4 5 6 7 8 9 10 "
     ]
    }
   ],
   "source": [
    "def f1(n):\n",
    "    if n > 0:\n",
    "        f1(n-1)\n",
    "        print(n , end =' ')\n",
    "f1(10)"
   ]
  },
  {
   "cell_type": "code",
   "execution_count": 13,
   "id": "8205eab2",
   "metadata": {},
   "outputs": [
    {
     "name": "stdout",
     "output_type": "stream",
     "text": [
      "10 9 8 7 6 5 4 3 2 1 "
     ]
    }
   ],
   "source": [
    "def reverse(n):\n",
    "    if n >0 :\n",
    "        print(n, end=' ')\n",
    "        reverse(n-1)\n",
    "        \n",
    "reverse(10)"
   ]
  },
  {
   "cell_type": "code",
   "execution_count": 15,
   "id": "7fe76a8a",
   "metadata": {},
   "outputs": [
    {
     "name": "stdout",
     "output_type": "stream",
     "text": [
      "1 3 5 7 9 11 13 15 17 19 21 23 25 27 29 31 33 35 37 39 "
     ]
    }
   ],
   "source": [
    "def odd(n):\n",
    "    if n >0:\n",
    "        odd(n-1)\n",
    "        print(2*n-1, end= ' ')\n",
    "odd(20)"
   ]
  },
  {
   "cell_type": "code",
   "execution_count": 18,
   "id": "2ce90d82",
   "metadata": {},
   "outputs": [
    {
     "name": "stdout",
     "output_type": "stream",
     "text": [
      "2 4 6 8 10 12 14 16 18 20 "
     ]
    }
   ],
   "source": [
    "def even(n):\n",
    "    if n > 0:\n",
    "        even(n-1)\n",
    "        print(2*n , end= ' ')\n",
    "even(10)"
   ]
  },
  {
   "cell_type": "code",
   "execution_count": 1,
   "id": "e48e623a",
   "metadata": {},
   "outputs": [],
   "source": [
    "from itertools import permutations"
   ]
  },
  {
   "cell_type": "code",
   "execution_count": 10,
   "id": "16fc328e",
   "metadata": {},
   "outputs": [
    {
     "ename": "NameError",
     "evalue": "name 'permutations' is not defined",
     "output_type": "error",
     "traceback": [
      "\u001b[1;31m---------------------------------------------------------------------------\u001b[0m",
      "\u001b[1;31mNameError\u001b[0m                                 Traceback (most recent call last)",
      "Cell \u001b[1;32mIn[10], line 9\u001b[0m\n\u001b[0;32m      6\u001b[0m     \u001b[38;5;28;01mreturn\u001b[39;00m \u001b[38;5;28mlen\u001b[39m(result)\n\u001b[0;32m      8\u001b[0m digits\u001b[38;5;241m=\u001b[39m[\u001b[38;5;241m1\u001b[39m,\u001b[38;5;241m2\u001b[39m,\u001b[38;5;241m3\u001b[39m,\u001b[38;5;241m6.7\u001b[39m]\n\u001b[1;32m----> 9\u001b[0m \u001b[43mcount_even\u001b[49m\u001b[43m(\u001b[49m\u001b[43mdigits\u001b[49m\u001b[43m)\u001b[49m\n",
      "Cell \u001b[1;32mIn[10], line 3\u001b[0m, in \u001b[0;36mcount_even\u001b[1;34m(digits)\u001b[0m\n\u001b[0;32m      1\u001b[0m \u001b[38;5;28;01mdef\u001b[39;00m \u001b[38;5;21mcount_even\u001b[39m(digits):\n\u001b[0;32m      2\u001b[0m     result\u001b[38;5;241m=\u001b[39m\u001b[38;5;28mset\u001b[39m()\n\u001b[1;32m----> 3\u001b[0m     \u001b[38;5;28;01mfor\u001b[39;00m comb \u001b[38;5;129;01min\u001b[39;00m \u001b[43mpermutations\u001b[49m(digits,\u001b[38;5;241m3\u001b[39m):\n\u001b[0;32m      4\u001b[0m         \u001b[38;5;28;01mif\u001b[39;00m comb[\u001b[38;5;241m0\u001b[39m] \u001b[38;5;241m!=\u001b[39m\u001b[38;5;241m0\u001b[39m \u001b[38;5;129;01mand\u001b[39;00m comb[\u001b[38;5;241m2\u001b[39m] \u001b[38;5;241m%\u001b[39m\u001b[38;5;241m2\u001b[39m\u001b[38;5;241m==\u001b[39m\u001b[38;5;241m0\u001b[39m:\n\u001b[0;32m      5\u001b[0m             result\u001b[38;5;241m.\u001b[39madd(comb[\u001b[38;5;241m0\u001b[39m]\u001b[38;5;241m*\u001b[39m\u001b[38;5;241m100\u001b[39m \u001b[38;5;241m+\u001b[39m comb[\u001b[38;5;241m1\u001b[39m]\u001b[38;5;241m*\u001b[39m\u001b[38;5;241m10\u001b[39m \u001b[38;5;241m+\u001b[39m comb[\u001b[38;5;241m2\u001b[39m])\n",
      "\u001b[1;31mNameError\u001b[0m: name 'permutations' is not defined"
     ]
    }
   ],
   "source": [
    "def count_even(digits):\n",
    "    result=set()\n",
    "    for comb in permutations(digits,3):\n",
    "        if comb[0] !=0 and comb[2] %2==0:\n",
    "            result.add(comb[0]*100 + comb[1]*10 + comb[2])\n",
    "    return len(result)\n",
    "\n",
    "digits=[1,2,3,6.7]\n",
    "count_even(digits)"
   ]
  },
  {
   "cell_type": "markdown",
   "id": "e8d4602f",
   "metadata": {},
   "source": [
    "# Binary Search Tree"
   ]
  },
  {
   "cell_type": "markdown",
   "id": "40da8be1",
   "metadata": {},
   "source": [
    "# time complexity o(log2n) average tunning time \n",
    "# duplicate values are not allowed in BST\n",
    "# in the left side are values are less than root and in the right side are values are greater then root"
   ]
  },
  {
   "cell_type": "markdown",
   "id": "09044d41",
   "metadata": {},
   "source": [
    "# Implementation\n",
    "## 1. node\n",
    "## 2. insertion\n",
    "## 3. Traversing\n",
    "## 4. search\n",
    "## 5. Deletion"
   ]
  },
  {
   "cell_type": "code",
   "execution_count": 14,
   "id": "cd7d37ab",
   "metadata": {},
   "outputs": [],
   "source": [
    "class Node:\n",
    "    def __init__(self, item=None, left=None, right=None):\n",
    "        self.item=item\n",
    "        self.left=left\n",
    "        self.right=right\n",
    "class BST:\n",
    "    def __init__(self):\n",
    "        self.root=None\n",
    "        \n",
    "    def insert(self,data):\n",
    "        self.root= self.rinsert(self.root,data)\n",
    "        \n",
    "    def rinsert(self,root,data):\n",
    "        if root is None:\n",
    "            return Node(data)\n",
    "        if data<root.item:\n",
    "            root.left= self.rinsert(root.left,data)\n",
    "        elif data > root.item:\n",
    "            root.right= self.rinsert(root.right,data)\n",
    "        return root\n",
    "    def search(self,data):\n",
    "        return self.rsearch(self.root,data)\n",
    "    def rsearch(self, data, root):\n",
    "        if root is None or root.item==data:\n",
    "            return root\n",
    "        if data< root.item:\n",
    "            return self.rsearch(root.left,data)\n",
    "        else:\n",
    "            return self.rsearch(root.right,data)\n",
    "    def inorder(self):\n",
    "        result=[]\n",
    "        self.rinorder(self,root,result)\n",
    "        return result\n",
    "        def rinorder(self,root,result):\n",
    "            self.rinorder(root.left,result)\n",
    "            self.rinorder(root.item)\n",
    "            self.rinorder(root.right,result)\n",
    "            \n",
    "    def min_value(self,temp):\n",
    "        current= temp\n",
    "        while current.left is not None:\n",
    "            current=current.left\n",
    "        return current.item\n",
    "    \n",
    "    \n",
    "    def max_value(self,temp):\n",
    "        current= temp\n",
    "        while current.right is not None:\n",
    "            current=current.right\n",
    "        return current.item\n",
    "        "
   ]
  },
  {
   "cell_type": "markdown",
   "id": "3718ade8",
   "metadata": {},
   "source": [
    "# # Deletion in BST"
   ]
  },
  {
   "cell_type": "code",
   "execution_count": 1,
   "id": "72bfb9b2",
   "metadata": {},
   "outputs": [
    {
     "ename": "SyntaxError",
     "evalue": "incomplete input (1931555941.py, line 13)",
     "output_type": "error",
     "traceback": [
      "\u001b[1;36m  Cell \u001b[1;32mIn[1], line 13\u001b[1;36m\u001b[0m\n\u001b[1;33m    \u001b[0m\n\u001b[1;37m    ^\u001b[0m\n\u001b[1;31mSyntaxError\u001b[0m\u001b[1;31m:\u001b[0m incomplete input\n"
     ]
    }
   ],
   "source": [
    "class Node:\n",
    "    def __init__(self, item=None ,left=None, right=None):\n",
    "        self.item=item\n",
    "        self.left=left\n",
    "        self.right=right\n",
    "    \n",
    "    def delete(self, data):\n",
    "        self.root= rdelete(self.root,data)\n",
    "    \n",
    "    def rdelete(self, root, data):\n",
    "        \n",
    "        \n",
    "\n"
   ]
  },
  {
   "cell_type": "code",
   "execution_count": 9,
   "id": "b3d455d8",
   "metadata": {},
   "outputs": [],
   "source": [
    "a=['apple','mango','banabna','cheery']\n",
    "b=['banana']\n",
    "\n",
    "def check_number(self,a,b):\n",
    "    count=0\n",
    "    if a.length< b.length:\n",
    "        return None\n",
    "    else:\n",
    "        for i in range(a.length()):\n",
    "            if a[char]==b[char]:\n",
    "                i+=1\n",
    "            return char\n",
    "          "
   ]
  },
  {
   "cell_type": "code",
   "execution_count": null,
   "id": "4f0c573b",
   "metadata": {},
   "outputs": [],
   "source": []
  },
  {
   "cell_type": "code",
   "execution_count": 14,
   "id": "8fa5d36a",
   "metadata": {},
   "outputs": [
    {
     "name": "stdout",
     "output_type": "stream",
     "text": [
      "1\n"
     ]
    }
   ],
   "source": [
    "a = ['apple', 'mango', 'banabna', 'cheery','banana']\n",
    "b = ['banana']\n",
    "\n",
    "def count_match(a,b):\n",
    "    count=0\n",
    "    for word in b :\n",
    "        if word in a:\n",
    "            count+=1\n",
    "    return count\n",
    "print(count_match(a,b))"
   ]
  },
  {
   "cell_type": "code",
   "execution_count": 20,
   "id": "8cebfa47",
   "metadata": {},
   "outputs": [
    {
     "name": "stdout",
     "output_type": "stream",
     "text": [
      "['kiwi', 'grapes']\n"
     ]
    }
   ],
   "source": [
    "# Find elements in b but not in a\n",
    "\n",
    "a = ['apple', 'mango', 'banana', 'cherry']\n",
    "b = ['banana', 'kiwi', 'grapes']\n",
    "\n",
    "def find_element(a,b):\n",
    "    count=0\n",
    "    result=[]\n",
    "    for word in b:\n",
    "        if not word in a:\n",
    "            result.append(word)\n",
    "        \n",
    "    return result\n",
    "\n",
    "print(find_element(a,b))\n",
    "    "
   ]
  },
  {
   "cell_type": "code",
   "execution_count": 3,
   "id": "62f68934",
   "metadata": {},
   "outputs": [
    {
     "name": "stdout",
     "output_type": "stream",
     "text": [
      "True\n"
     ]
    }
   ],
   "source": [
    "# check if two list are equals or not \n",
    "\n",
    "a = ['apple', 'mango', 'banana']\n",
    "b = ['banana', 'apple', 'mango']\n",
    "\n",
    "def check_equals(a,b):\n",
    "    \n",
    "    if len(a)!= len(b):\n",
    "        return False\n",
    "    \n",
    "    for item in a:\n",
    "        if item not in b:\n",
    "            return False\n",
    "    return True\n",
    "\n",
    "print(check_equals(a,b))\n",
    "            \n"
   ]
  },
  {
   "cell_type": "code",
   "execution_count": 9,
   "id": "9b4aa893",
   "metadata": {},
   "outputs": [
    {
     "name": "stdout",
     "output_type": "stream",
     "text": [
      "{'apple': 2, 'mango': 1, 'banana': 1}\n"
     ]
    }
   ],
   "source": [
    "freq= ['apple','mango','apple','banana']\n",
    "# Expected → {'apple': 2, 'mango': 1, 'banana': 1}\n",
    "\n",
    "\n",
    "def count_frequency(freq):\n",
    "    expec={}\n",
    "    for item in freq:\n",
    "        if item in expec:\n",
    "            expec[item] += 1\n",
    "            \n",
    "        else:\n",
    "            expec[item]=1\n",
    "    return expec\n",
    "\n",
    "print(count_frequency(freq))"
   ]
  },
  {
   "cell_type": "code",
   "execution_count": 7,
   "id": "ec254949",
   "metadata": {},
   "outputs": [
    {
     "name": "stdout",
     "output_type": "stream",
     "text": [
      "[1, 2, 3, 4, 5]\n"
     ]
    }
   ],
   "source": [
    "a=  [1,2,2,3,4,4,5,1]\n",
    "# Expected → [1, 2, 3, 4, 5]\n",
    "\n",
    "\n",
    "def duplictes(a):\n",
    "    result=[]\n",
    "    for item in a:\n",
    "        if item not in result:\n",
    "            result.append(item)\n",
    "            \n",
    "        else:\n",
    "            item+=1\n",
    "    return result\n",
    "\n",
    "print(duplictes(a))\n"
   ]
  },
  {
   "cell_type": "code",
   "execution_count": 24,
   "id": "0f7b0502",
   "metadata": {},
   "outputs": [
    {
     "name": "stdout",
     "output_type": "stream",
     "text": [
      "(2, 45)\n"
     ]
    }
   ],
   "source": [
    "def min_max(lst):\n",
    "    min_val = lst[0]\n",
    "    max_val = lst[0]\n",
    "\n",
    "    for item in lst:\n",
    "        if item < min_val:\n",
    "            min_val = item\n",
    "        elif item > max_val:\n",
    "            max_val = item\n",
    "\n",
    "\n",
    "    return (min_val, max_val)\n",
    "\n",
    "\n",
    "b = [10, 3, 45, 2, 19]\n",
    "print(min_max(b))\n",
    "\n",
    "\n"
   ]
  },
  {
   "cell_type": "code",
   "execution_count": 7,
   "id": "cf776de8",
   "metadata": {},
   "outputs": [
    {
     "name": "stdout",
     "output_type": "stream",
     "text": [
      "[3, 4]\n"
     ]
    }
   ],
   "source": [
    "# 6. Write a function to find the intersection (common elements) of two lists.\n",
    "\n",
    "c = ([1,2,3,4], [3,4,5,6])  \n",
    "# Output: [3,4]\n",
    "\n",
    "result=[]\n",
    "\n",
    "def common_element(Input):\n",
    "    for item in c[0]:\n",
    "        for items in c[1]:\n",
    "            if item == items and item not in result:  \n",
    "                result.append(item)\n",
    "                \n",
    "    return result\n",
    "    \n",
    "print(common_element(c))"
   ]
  },
  {
   "cell_type": "code",
   "execution_count": 8,
   "id": "d71f87d5",
   "metadata": {},
   "outputs": [
    {
     "name": "stdout",
     "output_type": "stream",
     "text": [
      "[1, 2, 3, 4, 5, 6]\n"
     ]
    }
   ],
   "source": [
    "# Merge two sorted lists in sorted order.\n",
    "\n",
    "d = ([1,3,5], [2,4,6])  \n",
    "\n",
    "def merge_list(d):\n",
    "    list1=d[0]\n",
    "    list2= d[1]\n",
    "    i=0\n",
    "    j=0\n",
    "    \n",
    "    res=[]\n",
    "    \n",
    "    while i < len(list1) and j < len(list2):\n",
    "        if list1[i] < list2[j]:\n",
    "            res.append(list1[i])\n",
    "            i+=1\n",
    "        else:\n",
    "            res.append(list2[j])\n",
    "            j+=1\n",
    "            \n",
    "            \n",
    "    res.extend(list1[i:])\n",
    "    res.extend(list2[j:])\n",
    "            \n",
    "    return res\n",
    "\n",
    "print(merge_list(d)) \n",
    "            "
   ]
  },
  {
   "cell_type": "code",
   "execution_count": 9,
   "id": "8317fc52",
   "metadata": {},
   "outputs": [
    {
     "name": "stdout",
     "output_type": "stream",
     "text": [
      "[5, 4, 3, 2, 1]\n"
     ]
    }
   ],
   "source": [
    "# Reverse a list without using slicing ([::-1]).\n",
    "\n",
    "e= [1,2,3,4,5]  \n",
    "# Output: [5,4,3,2,1]\n",
    "\n",
    "def reverse_list(e):\n",
    "    n= len(e)\n",
    "    i=0\n",
    "    j=n-1\n",
    "    \n",
    "    while i< j:\n",
    "            e[i]=e[j]\n",
    "            e[j]=e[i]\n",
    "            i+=1\n",
    "            j-=1\n",
    "            \n",
    "            \n",
    "    return e\n",
    "\n",
    "print(reverse_list(e))\n",
    "\n",
    "\n"
   ]
  },
  {
   "cell_type": "code",
   "execution_count": 19,
   "id": "eb232538",
   "metadata": {},
   "outputs": [
    {
     "name": "stdout",
     "output_type": "stream",
     "text": [
      "[(2, 5), (4, 3)]\n"
     ]
    }
   ],
   "source": [
    " # Find all pair in the add to get 7 \n",
    "f = [2,4,3,5,7] \n",
    "target=7  \n",
    "# Output: [(2,5), (4,3)]\n",
    "\n",
    "def find_pairs(f,target):\n",
    "     \n",
    "   \n",
    "    pair=[]\n",
    "    \n",
    "    for i in range(0,len(f)):\n",
    "        for j in range(i+1,len(f)):\n",
    "            if f[i]+f[j] == target:\n",
    "                pair.append((f[i],f[j]))\n",
    "                j+=1\n",
    "        i+=1\n",
    "    return pair\n",
    "    \n",
    "print(find_pairs(f,target))"
   ]
  },
  {
   "cell_type": "code",
   "execution_count": 6,
   "id": "51fd537a",
   "metadata": {},
   "outputs": [
    {
     "name": "stdout",
     "output_type": "stream",
     "text": [
      "(31, 60)\n"
     ]
    }
   ],
   "source": [
    "g = \"jjbhdhdhuehrijurbvkrnbvyuifhiufheufbgewyuveyfvufihjeiofjeiufhrufbgryuvyuqwhdjwoidhiuwagfuew\"  \n",
    "# Output: Vowels=2, Consonants=3\n",
    "\n",
    "def count_vowels_consonants(g):\n",
    "    vow = ['a','e','i','o','u']\n",
    "    vowels = 0\n",
    "    consonants = 0\n",
    "    i = 0\n",
    "    while i < len(g):\n",
    "        ch= g[i].lower()\n",
    "        if ch.isalpha():\n",
    "            if ch  in vow:\n",
    "                vowels+=1\n",
    "            else:\n",
    "                consonants+=1\n",
    "        i+=1\n",
    "        \n",
    "    return ( vowels, consonants)\n",
    "\n",
    "print(count_vowels_consonants(g))\n",
    "        "
   ]
  },
  {
   "cell_type": "code",
   "execution_count": 11,
   "id": "a5419668",
   "metadata": {},
   "outputs": [
    {
     "name": "stdout",
     "output_type": "stream",
     "text": [
      "3\n"
     ]
    }
   ],
   "source": [
    "# Q16. Longest Substring Without Repeating Characters\n",
    "# Write a function to find the length of the longest substring without repeating characters.\n",
    "\n",
    "s= \"abcabcbb\"  \n",
    "# Output: 3   # (\"abc\")\n",
    "\n",
    "def longest_substring(s):\n",
    "    \n",
    "    a = set()\n",
    "    left=0\n",
    "    max_len=0\n",
    "    for right in range(len(s)):\n",
    "        while s[right] in a:\n",
    "            a.remove(s[left])\n",
    "            left+=1\n",
    "        a.add(s[right])\n",
    "        max_len = max(max_len, right - left + 1)\n",
    "        \n",
    "    return max_len\n",
    "\n",
    "print(longest_substring(s))\n",
    "    \n"
   ]
  },
  {
   "cell_type": "code",
   "execution_count": 13,
   "id": "388e59b8",
   "metadata": {},
   "outputs": [],
   "source": [
    "# Q19. Kadane’s Algorithm (Maximum Subarray Sum)\n",
    "# Write a function to find the maximum sum of a contiguous subarray.\n",
    "\n",
    "# Input: [-2, 1, -3, 4, -1, 2, 1, -5, 4]  \n",
    "# Output: 6   # (subarray [4,-1,2,1])"
   ]
  },
  {
   "cell_type": "code",
   "execution_count": 10,
   "id": "52a4c6cf",
   "metadata": {},
   "outputs": [
    {
     "name": "stdout",
     "output_type": "stream",
     "text": [
      "6\n"
     ]
    }
   ],
   "source": [
    "arr= [-2, 1, -3, 4, -1, 2, 1, -5, 4]\n",
    "\n",
    "def continous_arr(arr):\n",
    "    res=arr[0]\n",
    "    \n",
    "    for i in range(len(arr)):\n",
    "        curr_sum=0\n",
    "        for j in range (i, len(arr)):\n",
    "            curr_sum=curr_sum +arr[j]\n",
    "            res= max(curr_sum,res)\n",
    "    return res\n",
    "    \n",
    "print(continous_arr(arr))\n",
    "\n",
    "# In this question this is brute force or naive approach but we can solve this problem in to the o(n):\n",
    "# by using kdanes algorithm\n"
   ]
  },
  {
   "cell_type": "code",
   "execution_count": 1,
   "id": "3f9307b3",
   "metadata": {},
   "outputs": [],
   "source": [
    "# Q21. Find Missing Number (1–n)\n",
    "\n",
    "# Given a list containing n-1 numbers from 1 to n, find the missing number.\n",
    "\n",
    "# Input: [1, 2, 4, 5]  \n",
    "# Output: 3"
   ]
  },
  {
   "cell_type": "code",
   "execution_count": 8,
   "id": "3621f235",
   "metadata": {},
   "outputs": [
    {
     "name": "stdout",
     "output_type": "stream",
     "text": [
      "3\n"
     ]
    }
   ],
   "source": [
    "inp = [1, 2, 4, 5, 6, 7,8,9,10]\n",
    "\n",
    "def missing_number(inp):\n",
    "    n = len(inp)\n",
    "    \n",
    "    for i in range(n):\n",
    "        expected_sum = (n+1)*(n+2)//2\n",
    "        actual_sum = sum(inp)\n",
    "        miss_no= expected_sum - actual_sum\n",
    "        \n",
    "    return miss_no\n",
    "\n",
    "\n",
    "print(missing_number(inp))"
   ]
  },
  {
   "cell_type": "code",
   "execution_count": null,
   "id": "f7820732",
   "metadata": {},
   "outputs": [],
   "source": [
    "# Q22. Product of Array Except Self\n",
    "\n",
    "# Return a new list where each element at index i is the product of all numbers in the original array except arr[i].\n",
    "# 👉 Don’t use division.\n",
    "\n",
    "# Input: [1, 2, 3, 4]  \n",
    "# Output: [24, 12, 8, 6]"
   ]
  },
  {
   "cell_type": "code",
   "execution_count": 3,
   "id": "4bd8b456",
   "metadata": {},
   "outputs": [
    {
     "name": "stdout",
     "output_type": "stream",
     "text": [
      "[24, 12, 8, 6]\n"
     ]
    }
   ],
   "source": [
    "arr =[1, 2, 3, 4]\n",
    "\n",
    "res=[]\n",
    "\n",
    "def product_array(arr):\n",
    "        n= len(arr)\n",
    "        actualmul=1\n",
    "        \n",
    "        for i in range(1,n):\n",
    "            actualmul= actualmul*arr[i]\n",
    "        for i in range(n):\n",
    "            res.append(actualmul//arr[i])\n",
    "        return res\n",
    "    \n",
    "print(product_array(arr))\n",
    "\n",
    "# time complexity is 0(n2)"
   ]
  },
  {
   "cell_type": "code",
   "execution_count": 7,
   "id": "007d5a7e",
   "metadata": {},
   "outputs": [
    {
     "name": "stdout",
     "output_type": "stream",
     "text": [
      "[24, 12, 8, 6]\n",
      "[0, 0, 8, 0]\n"
     ]
    }
   ],
   "source": [
    "# Let’s break down the prefix–suffix (no division) method step by step.\n",
    "\n",
    "def product_except_self(nums):\n",
    "    n = len(nums)\n",
    "    if n == 0:\n",
    "        return []\n",
    "\n",
    "    # res will hold left-products first\n",
    "    \n",
    "    res = [1] * n\n",
    "    left = 1\n",
    "    for i in range(n):\n",
    "        res[i] = left\n",
    "        left *= nums[i]\n",
    "\n",
    "    # multiply by right-products on the fly\n",
    "    right = 1\n",
    "    for i in range(n-1, -1, -1):\n",
    "        res[i] *= right\n",
    "        right *= nums[i]\n",
    "\n",
    "    return res\n",
    "\n",
    "print(product_except_self([1,2,3,4]))  \n",
    "print(product_except_self([1,2,0,4]))\n"
   ]
  },
  {
   "cell_type": "code",
   "execution_count": 8,
   "id": "0dad4d8e",
   "metadata": {},
   "outputs": [
    {
     "name": "stdout",
     "output_type": "stream",
     "text": [
      "()\n"
     ]
    }
   ],
   "source": [
    "# Q23. Longest Palindromic Substring.\n",
    "\n",
    "# Write a function to find the longest palindromic substring in a given string.\n",
    "\n",
    "st = \"babad\"  \n",
    "# Output: \"bab\" or \"aba\"\n",
    "\n",
    "def palindrome_substr(st):\n",
    "    n= len(st)\n",
    "    \n",
    "    set=()\n",
    "    for i in range(0,n):\n",
    "        for j in range(n,i-1):\n",
    "            set.append([i,j])\n",
    "        return set\n",
    "            \n",
    "print(palindrome_substr(st))"
   ]
  },
  {
   "cell_type": "markdown",
   "id": "68c57586",
   "metadata": {},
   "source": [
    "# Kdane's Algorithm\n",
    "## for finding the maximum sum of array"
   ]
  },
  {
   "cell_type": "code",
   "execution_count": 2,
   "id": "1b3b2e2b",
   "metadata": {},
   "outputs": [
    {
     "name": "stdout",
     "output_type": "stream",
     "text": [
      "4\n"
     ]
    }
   ],
   "source": [
    "inp=[-2,1,-3,4]\n",
    "\n",
    "def sum_array(inp):\n",
    "    curr_sum=inp[0]\n",
    "    max_sum=inp[0]\n",
    "    \n",
    "    for num in inp[1:]:\n",
    "        curr_sum=max(num,curr_sum+num)\n",
    "        max_sum=max(max_sum,curr_sum)\n",
    "        \n",
    "    return max_sum\n",
    "\n",
    "print(sum_array(inp))"
   ]
  },
  {
   "cell_type": "raw",
   "id": "08f784ea",
   "metadata": {},
   "source": [
    "Given an m x n integer matrix, if an element is 0, set its entire row and column to 0's.\n",
    "\n",
    "Example 1:\n",
    "\n",
    "Input: matrix = [[1,1,1],[1,0,1],[1,1,1]]\n",
    "Output: [[1,0,1],[0,0,0],[1,0,1]]\n",
    "Example 2:\n",
    "\n",
    "\n",
    "Input: matrix = [[0,1,2,0],[3,4,5,2],[1,3,1,5]]\n",
    "Output: [[0,0,0,0],[0,4,5,0],[0,3,1,0]]\n",
    " \n",
    "\n",
    "Constraints:\n",
    "\n",
    "m == matrix.length\n",
    "n == matrix[0].length\n",
    "1 <= m, n <= 200\n",
    "-231 <= matrix[i][j] <= 231 - 1\n",
    " \n",
    "\n",
    "Follow up:\n",
    "\n",
    "A straightforward solution using O(mn) space is probably a bad idea.\n",
    "A simple improvement uses O(m + n) space, but still not the best solution.\n",
    "Could you devise a constant space solution?"
   ]
  },
  {
   "cell_type": "code",
   "execution_count": 14,
   "id": "8306c30e",
   "metadata": {},
   "outputs": [
    {
     "name": "stdout",
     "output_type": "stream",
     "text": [
      "[[1, 0, 1], [0, 0, 0], [1, 0, 1]]\n"
     ]
    }
   ],
   "source": [
    "matrix = [[1,1,1],[1,0,1],[1,1,1]]\n",
    "\n",
    "def matrix_zeroes(matrix):\n",
    "    m= len(matrix)\n",
    "    n= len(matrix[0])\n",
    "    set_row=set()\n",
    "    set_column=set()\n",
    "    \n",
    "    \n",
    "    for i in range(m):\n",
    "        for j in range(n):\n",
    "            if matrix[i][j] == 0:\n",
    "                set_row.add(i)\n",
    "                set_column.add(j)\n",
    "                \n",
    "                \n",
    "                \n",
    "    for i in range(m):\n",
    "        for j in range(n):\n",
    "                if i in set_row or j in set_column:\n",
    "                    matrix[i][j]=0\n",
    "    return matrix\n",
    "\n",
    "print(matrix_zeroes(matrix))"
   ]
  },
  {
   "cell_type": "code",
   "execution_count": null,
   "id": "49828c8e",
   "metadata": {},
   "outputs": [],
   "source": []
  },
  {
   "cell_type": "raw",
   "id": "dd1c7fe9",
   "metadata": {},
   "source": [
    "Given an array of integers nums and an integer k, return the total number of subarrays whose sum equals to k.\n",
    "\n",
    "A subarray is a contiguous non-empty sequence of elements within an array.\n",
    "\n",
    "Example 1:\n",
    "\n",
    "Input: nums = [1,1,1], k = 2\n",
    "Output: 2\n",
    "Example 2:\n",
    "\n",
    "Input: nums = [1,2,3], k = 3\n",
    "Output: 2\n",
    " \n",
    "\n",
    "Constraints:\n",
    "\n",
    "1 <= nums.length <= 2 * 104\n",
    "-1000 <= nums[i] <= 1000\n",
    "-107 <= k <= 107"
   ]
  },
  {
   "cell_type": "code",
   "execution_count": 31,
   "id": "8281a2e9",
   "metadata": {},
   "outputs": [
    {
     "name": "stdout",
     "output_type": "stream",
     "text": [
      "3\n"
     ]
    }
   ],
   "source": [
    "__import__(\"atexit\").register(lambda: open(\"display_runtime.txt\", \"w\").write(\"0\"))\n",
    "nums = [1,-1,0]\n",
    "k=0\n",
    "from collections import defaultdict\n",
    "def count_subaaray(nums,k):\n",
    "    count = 0\n",
    "    curr_sum = 0\n",
    "    n = len(nums) \n",
    "\n",
    "    prefix_counts = defaultdict(int)\n",
    "    prefix_counts[0] = 1 \n",
    "    for i in range(n):\n",
    "        curr_sum += nums[i]\n",
    "        count += prefix_counts[curr_sum - k]\n",
    "        prefix_counts[curr_sum] += 1\n",
    "\n",
    "    return count\n",
    "    \n",
    "print(count_subaaray(nums,k))"
   ]
  },
  {
   "cell_type": "raw",
   "id": "9b28e8f7",
   "metadata": {},
   "source": [
    "Example Problem - Sum of Pair Equal to Target\n",
    "Given a sorted array arr (sorted in ascending order) and a target, find if there exists any pair of elements (arr[i], arr[j]) such that their sum is equal to the target.\n",
    "\n",
    "Illustration : \n",
    "\n",
    "Input: arr[] = [10, 20, 35, 50], target =70\n",
    "Output:  true\n",
    "Explanation : There is a pair (20, 50) with given target.\n",
    "\n",
    "Input: arr[] = [10, 20, 30], target =70\n",
    "Output :  false\n"
   ]
  },
  {
   "cell_type": "code",
   "execution_count": 39,
   "id": "b0093d5e",
   "metadata": {},
   "outputs": [
    {
     "name": "stdout",
     "output_type": "stream",
     "text": [
      "True\n"
     ]
    }
   ],
   "source": [
    "arr=[10, 20, 35, 50] \n",
    "\n",
    "target =70\n",
    "def sum_pair(arr):\n",
    "    \n",
    "    n= len(arr)\n",
    "    for i in range(n):\n",
    "        for j in range(i+1,n):\n",
    "            if arr[i]+arr[j]==target:\n",
    "                return True\n",
    "    return False\n",
    "    \n",
    "print(sum_pair(arr))\n",
    "        \n",
    "# This appraoch can take time complexity of o(n^2). \n",
    "# We can solve this quetion as well as o(n) by using two pointer approach ."
   ]
  },
  {
   "cell_type": "markdown",
   "id": "1db58d37",
   "metadata": {},
   "source": [
    "# Two pointer approach"
   ]
  },
  {
   "cell_type": "code",
   "execution_count": 47,
   "id": "7f8ebced",
   "metadata": {},
   "outputs": [
    {
     "name": "stdout",
     "output_type": "stream",
     "text": [
      "True\n"
     ]
    }
   ],
   "source": [
    "arr=[10, 20, 35, 50] \n",
    "target=70\n",
    "\n",
    "def sum_pairs(arr):\n",
    "    left= 0\n",
    "    right= len(arr)-1\n",
    "    \n",
    "    \n",
    "    while left<right:\n",
    "        if arr[left]+arr[right]==target:\n",
    "            \n",
    "            return True\n",
    "        \n",
    "        elif arr[left]+arr[right]<target:\n",
    "            left+=1\n",
    "            \n",
    "        else:\n",
    "            \n",
    "            right-=1\n",
    "    return False    \n",
    "        \n",
    "print(sum_pairs(arr))\n",
    "    "
   ]
  },
  {
   "cell_type": "raw",
   "id": "37809bcc",
   "metadata": {},
   "source": [
    "Longest Substring Without Repeating Characters\n",
    "\n",
    "Given a string s, find the length of the longest substring without duplicate characters.\n",
    "\n",
    "Example 1:\n",
    "\n",
    "Input: s = \"abcabcbb\"\n",
    "Output: 3\n",
    "Explanation: The answer is \"abc\", with the length of 3.\n",
    "Example 2:\n",
    "\n",
    "Input: s = \"bbbbb\"\n",
    "Output: 1\n",
    "Explanation: The answer is \"b\", with the length of 1.\n",
    "Example 3:\n",
    "\n",
    "Input: s = \"pwwkew\"\n",
    "Output: 3\n",
    "Explanation: The answer is \"wke\", with the length of 3.\n",
    "Notice that the answer must be a substring, \"pwke\" is a subsequence and not a substring.\n",
    " \n",
    "Constraints:\n",
    "\n",
    "0 <= s.length <= 5 * 104\n",
    "s consists of English letters, digits, symbols and spaces."
   ]
  },
  {
   "cell_type": "code",
   "execution_count": 2,
   "id": "c21c6050",
   "metadata": {},
   "outputs": [
    {
     "name": "stdout",
     "output_type": "stream",
     "text": [
      "3\n"
     ]
    }
   ],
   "source": [
    "__import__(\"atexit\").register(lambda: open(\"display_runtime.txt\", \"w\").write(\"0\"))\n",
    "\n",
    "s= \"pwwkew\"\n",
    "\n",
    "def longest_substring_without_repeating_character(s):\n",
    "    left=0\n",
    "    max_len=0\n",
    "    seen=set()\n",
    "    \n",
    "    for right in range(len(s)):\n",
    "        while s[right] in seen:\n",
    "            seen.remove(s[left])\n",
    "            left+=1\n",
    "        seen.add(s[right])\n",
    "        max_len= max(max_len , right-left+1)\n",
    "        \n",
    "    return max_len\n",
    "\n",
    "print(longest_substring_without_repeating_character(s))\n",
    "    \n",
    "   "
   ]
  },
  {
   "cell_type": "raw",
   "id": "6e17f7fb",
   "metadata": {},
   "source": [
    "Given a binary array nums, return the maximum number of consecutive 1's in the array.\n",
    "\n",
    "Example 1:\n",
    "\n",
    "Input: nums = [1,1,0,1,1,1]\n",
    "Output: 3\n",
    "Explanation: The first two digits or the last three digits are consecutive 1s. The maximum number of consecutive 1s is 3.\n",
    "Example 2:\n",
    "\n",
    "Input: nums = [1,0,1,1,0,1]\n",
    "Output: 2\n",
    " "
   ]
  },
  {
   "cell_type": "code",
   "execution_count": null,
   "id": "7e6511f5",
   "metadata": {},
   "outputs": [],
   "source": [
    "# nums = [1,1,0,1,1,1]\n",
    "\n",
    "# def consecutive_one(nums):\n",
    "#     left= 0\n",
    "#     max_ones=0\n",
    "    \n",
    "#     for right in range(len(nums)):\n",
    "#         while left<= right:\n",
    "#             if nums[left]==1:\n",
    "#                 right+=1\n",
    "#             nums[left]= nums[right]\n",
    "        \n",
    "#     return (right-left)\n",
    "    \n",
    "# print(consecutive_one(nums))\n",
    "            "
   ]
  },
  {
   "cell_type": "code",
   "execution_count": 9,
   "id": "8adc12a0",
   "metadata": {},
   "outputs": [
    {
     "name": "stdout",
     "output_type": "stream",
     "text": [
      "2\n"
     ]
    }
   ],
   "source": [
    "nums = [1,0,1,1,0,1]\n",
    "\n",
    "def consecutive_one(nums):\n",
    "    n= len(nums)\n",
    "    count_ones=0\n",
    "    max_count=0\n",
    "    for i in range(n):\n",
    "        if nums[i]==1:\n",
    "            count_ones+=1\n",
    "        elif nums[i]==0:\n",
    "            count_ones=0\n",
    "            \n",
    "        max_count=max(count_ones,max_count)\n",
    "            \n",
    "    return max_count\n",
    "\n",
    "print(consecutive_one(nums))\n",
    "        "
   ]
  },
  {
   "cell_type": "raw",
   "id": "fff3e5bc",
   "metadata": {},
   "source": [
    "1004. Max Consecutive Ones III\n",
    "\n",
    "Given a binary array nums and an integer k, return the maximum number of consecutive 1's in the array if you can flip at most k 0's.\n",
    "\n",
    "Example 1:\n",
    "\n",
    "Input: nums = [1,1,1,0,0,0,1,1,1,1,0], k = 2\n",
    "Output: 6\n",
    "Explanation: [1,1,1,0,0,1,1,1,1,1,1]\n",
    "Bolded numbers were flipped from 0 to 1. The longest subarray is underlined.\n",
    "Example 2:\n",
    "\n",
    "Input: nums = [0,0,1,1,0,0,1,1,1,0,1,1,0,0,0,1,1,1,1], k = 3\n",
    "Output: 10\n",
    "Explanation: [0,0,1,1,1,1,1,1,1,1,1,1,0,0,0,1,1,1,1]\n",
    "Bolded numbers were flipped from 0 to 1. The longest subarray is underlined.\n",
    "\n",
    "Constraints:\n",
    "\n",
    "1 <= nums.length <= 105\n",
    "nums[i] is either 0 or 1.\n",
    "0 <= k <= nums.length"
   ]
  },
  {
   "cell_type": "code",
   "execution_count": 7,
   "id": "767bd1dd",
   "metadata": {},
   "outputs": [
    {
     "name": "stdout",
     "output_type": "stream",
     "text": [
      "6\n"
     ]
    }
   ],
   "source": [
    "nums = [1,1,1,0,0,0,1,1,1,1,0]\n",
    "k = 2\n",
    "def cons_ones(nums,k):\n",
    "    left=0\n",
    "    max_one=0\n",
    "    count_zero=0\n",
    "    for right in range(len(nums)):\n",
    "        if nums[right]==0:\n",
    "            count_zero+=1\n",
    "            \n",
    "        while count_zero >k:\n",
    "            \n",
    "            if nums[left]==0:   \n",
    "                count_zero-=1\n",
    "                \n",
    "            left+=1\n",
    "        max_one= max(max_one,right-left+1)\n",
    "    return max_one\n",
    "\n",
    "print(cons_ones(nums,k))"
   ]
  },
  {
   "cell_type": "raw",
   "id": "8c272c98",
   "metadata": {},
   "source": [
    "You are given a string s and an integer k. You can choose any character of the string and change it to any other uppercase English character. You can perform this operation at most k times.\n",
    "\n",
    "Return the length of the longest substring containing the same letter you can get after performing the above operations.\n",
    "\n",
    "Example 1:\n",
    "\n",
    "Input: s = \"ABAB\", k = 2\n",
    "Output: 4\n",
    "Explanation: Replace the two 'A's with two 'B's or vice versa.\n",
    "Example 2:\n",
    "\n",
    "Input: s = \"AABABBA\", k = 1\n",
    "Output: 4\n",
    "Explanation: Replace the one 'A' in the middle with 'B' and form \"AABBBBA\".\n",
    "The substring \"BBBB\" has the longest repeating letters, which is 4.\n",
    "There may exists other ways to achieve this answer too.\n"
   ]
  },
  {
   "cell_type": "code",
   "execution_count": null,
   "id": "ec65eff2",
   "metadata": {},
   "outputs": [],
   "source": []
  }
 ],
 "metadata": {
  "kernelspec": {
   "display_name": "Python 3 (ipykernel)",
   "language": "python",
   "name": "python3"
  },
  "language_info": {
   "codemirror_mode": {
    "name": "ipython",
    "version": 3
   },
   "file_extension": ".py",
   "mimetype": "text/x-python",
   "name": "python",
   "nbconvert_exporter": "python",
   "pygments_lexer": "ipython3",
   "version": "3.10.9"
  }
 },
 "nbformat": 4,
 "nbformat_minor": 5
}
