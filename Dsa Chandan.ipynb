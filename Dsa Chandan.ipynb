{
 "cells": [
  {
   "cell_type": "raw",
   "id": "de85e2c5",
   "metadata": {},
   "source": [
    "Given an array of integers nums and an integer k. A continuous subarray is called nice if there are k odd numbers on it.\n",
    "\n",
    "Return the number of nice sub-arrays.\n",
    "\n",
    "Example 1:\n",
    "Input: nums = [1,1,2,1,1], k = 3\n",
    "Output: 2\n",
    "Explanation: The only sub-arrays with 3 odd numbers are [1,1,2,1] and [1,2,1,1].\n",
    "\n",
    "Example 2:\n",
    "Input: nums = [2,4,6], k = 1\n",
    "Output: 0\n",
    "Explanation: There are no odd numbers in the array.\n",
    "\n",
    "Example 3:\n",
    "Input: nums = [2,2,2,1,2,2,1,2,2,2], k = 2\n",
    "Output: 16"
   ]
  },
  {
   "cell_type": "code",
   "execution_count": 9,
   "id": "e8c4230a",
   "metadata": {},
   "outputs": [
    {
     "name": "stdout",
     "output_type": "stream",
     "text": [
      "16\n"
     ]
    }
   ],
   "source": [
    "nums = [2,2,2,1,2,2,1,2,2,2] \n",
    "k = 2\n",
    "\n",
    "def nice_subarray(nums,k):\n",
    "    left=0\n",
    "    count=0\n",
    "    \n",
    "    \n",
    "    for right in range(len(nums)):\n",
    "        count_odd=0\n",
    "        for left in range (right, -1 ,-1):\n",
    "            if nums[left] % 2 != 0:\n",
    "                count_odd += 1\n",
    "            if count_odd == k:\n",
    "                count += 1\n",
    "            elif count_odd > k:\n",
    "                break\n",
    "\n",
    "    return count\n",
    "                \n",
    "print(nice_subarray(nums,k))"
   ]
  },
  {
   "cell_type": "markdown",
   "id": "70681998",
   "metadata": {},
   "source": [
    "# # Stack "
   ]
  },
  {
   "cell_type": "markdown",
   "id": "fd7c4ed8",
   "metadata": {},
   "source": [
    "### 1. Stack implementation using array"
   ]
  },
  {
   "cell_type": "code",
   "execution_count": 4,
   "id": "1a70d3c4",
   "metadata": {},
   "outputs": [],
   "source": [
    "class MyStack:\n",
    "    \n",
    "    def __init__(self):\n",
    "        sef.arr=[]\n",
    "        \n",
    "    def push(self,data):\n",
    "        self.arr.append(data)\n",
    "        \n",
    "    def pop(self):\n",
    "        if len(self.arr)==0:\n",
    "            return -1\n",
    "        else:\n",
    "            return self.arr.pop()\n",
    "    "
   ]
  },
  {
   "cell_type": "markdown",
   "id": "4499b081",
   "metadata": {},
   "source": [
    "### Implementation Using Linked List"
   ]
  },
  {
   "cell_type": "code",
   "execution_count": 5,
   "id": "2d82208a",
   "metadata": {},
   "outputs": [],
   "source": [
    "# Node class\n",
    "''' class Node:\n",
    "\n",
    "    def __init__(self, new_data):\n",
    "        self.data = new_data\n",
    "        self.next = None \n",
    "'''\n",
    "\n",
    "# Stack class template\n",
    "class myStack:\n",
    "\n",
    "    def __init__(self):\n",
    "        self.head=None\n",
    "        \n",
    "\n",
    "    def isEmpty(self):\n",
    "        return self.head is None\n",
    "        \n",
    "\n",
    "    def push(self, x):\n",
    "        new_node= Node(x)\n",
    "        new_node.next=self.head\n",
    "        self.head=new_node\n",
    "        \n",
    "\n",
    "    def pop(self):\n",
    "        if self.isEmpty():\n",
    "            return -1\n",
    "        pop_data= self.head.data\n",
    "        self.head= self.head.next\n",
    "        return pop_data\n",
    "\n",
    "\n",
    "    def peek(self):\n",
    "        if self.isEmpty():\n",
    "            return -1\n",
    "        return self.head.data\n",
    "\n",
    "\n",
    "    def size(self):\n",
    "        count=0\n",
    "        current= self.head\n",
    "        while current:\n",
    "            count+=1\n",
    "            current=current.next\n",
    "        return count\n",
    "        "
   ]
  },
  {
   "cell_type": "markdown",
   "id": "8b731c1b",
   "metadata": {},
   "source": [
    "### Implementation of stack using Queue "
   ]
  },
  {
   "cell_type": "code",
   "execution_count": 6,
   "id": "03573c75",
   "metadata": {},
   "outputs": [],
   "source": [
    "from collections import deque\n",
    "class MyStack:\n",
    "\n",
    "    def __init__(self):\n",
    "        self.q1= deque()\n",
    "        self.q2=deque()\n",
    "        \n",
    "\n",
    "    def push(self, x: int) -> None:\n",
    "        self.q1.append(x)\n",
    "\n",
    "    def pop(self) -> int:\n",
    "        while len(self.q1)>1:\n",
    "        \n",
    "            self.q2.append(self.q1.popleft())\n",
    "\n",
    "        res= self.q1.popleft()\n",
    "        self.q1,self.q2 = self.q2,self.q1\n",
    "        return res\n",
    "\n",
    "    def top(self) -> int:\n",
    "        while len(self.q1)>1:\n",
    "        \n",
    "            self.q2.append(self.q1.popleft())\n",
    "        res= self.q1.popleft()\n",
    "        self.q2.append(res)\n",
    "        self.q1,self.q2 = self.q2,self.q1\n",
    "        return res\n",
    "        \n",
    "\n",
    "    def empty(self) -> bool:\n",
    "        return len(self.q1)==0\n",
    "        \n"
   ]
  },
  {
   "cell_type": "code",
   "execution_count": null,
   "id": "c895df56",
   "metadata": {},
   "outputs": [],
   "source": []
  },
  {
   "cell_type": "raw",
   "id": "38316a53",
   "metadata": {},
   "source": [
    "155. Min Stack\n",
    "\n",
    "Design a stack that supports push, pop, top, and retrieving the minimum element in constant time.\n",
    "\n",
    "Example 1:\n",
    "\n",
    "Input\n",
    "[\"MinStack\",\"push\",\"push\",\"push\",\"getMin\",\"pop\",\"top\",\"getMin\"]\n",
    "[[],[-2],[0],[-3],[],[],[],[]]\n",
    "\n",
    "Output\n",
    "[null,null,null,null,-3,null,0,-2]\n",
    "\n",
    "Explanation\n",
    "MinStack minStack = new MinStack();\n",
    "minStack.push(-2);\n",
    "minStack.push(0);\n",
    "minStack.push(-3);\n",
    "minStack.getMin(); // return -3\n",
    "minStack.pop();\n",
    "minStack.top();    // return 0\n",
    "minStack.getMin(); // return -2\n",
    " \n",
    "\n",
    "Constraints:\n",
    "\n",
    "-231 <= val <= 231 - 1\n",
    "Methods pop, top and getMin operations will always be called on non-empty stacks.\n",
    "At most 3 * 104 calls will be made to push, pop, top, and getMin. "
   ]
  },
  {
   "cell_type": "code",
   "execution_count": 1,
   "id": "0abd5067",
   "metadata": {},
   "outputs": [
    {
     "name": "stdout",
     "output_type": "stream",
     "text": [
      "3\n",
      "3\n",
      "5\n",
      "5\n"
     ]
    }
   ],
   "source": [
    "class MinStack:\n",
    "    \n",
    "    def __init__(self):\n",
    "            self.arr=[]\n",
    "\n",
    "    def push(self, val: int) -> None:\n",
    "        self.arr.append(val)\n",
    "        \n",
    "\n",
    "    def pop(self) -> None:\n",
    "        if len(self.arr)==0:\n",
    "            return -1\n",
    "        self.arr.pop()\n",
    "        \n",
    "\n",
    "    def top(self) -> int:\n",
    "        if len(self.arr)==0:\n",
    "            return -1\n",
    "        return self.arr[-1]\n",
    "        \n",
    "        \n",
    "\n",
    "    def getMin(self) -> int:\n",
    "        if not self.arr:\n",
    "            return -1\n",
    "        return min(self.arr) # 0(n)\n",
    "        \n",
    "        \n",
    "s = MinStack()\n",
    "s.push(5)\n",
    "s.push(3)\n",
    "s.push(7)\n",
    "print(s.getMin())  # 3\n",
    "s.pop()\n",
    "print(s.getMin())  # 3\n",
    "s.pop()\n",
    "print(s.getMin())  # 5\n",
    "\n",
    "print(s.top())\n",
    "        "
   ]
  },
  {
   "cell_type": "code",
   "execution_count": null,
   "id": "fdee55ae",
   "metadata": {},
   "outputs": [],
   "source": []
  },
  {
   "cell_type": "raw",
   "id": "282d6920",
   "metadata": {},
   "source": [
    "Given a string s containing just the characters '(', ')', '{', '}', '[' and ']', determine if the input string is valid.\n",
    "\n",
    "An input string is valid if:\n",
    "\n",
    "Open brackets must be closed by the same type of brackets.\n",
    "Open brackets must be closed in the correct order.\n",
    "Every close bracket has a corresponding open bracket of the same type.\n",
    " \n",
    "Example 1:\n",
    "\n",
    "Input: s = \"()\"\n",
    "\n",
    "Output: true\n",
    "\n",
    "Example 2:\n",
    "\n",
    "Input: s = \"()[]{}\"\n",
    "\n",
    "Output: true\n",
    "\n",
    "Example 3:\n",
    "\n",
    "Input: s = \"(]\"\n",
    "\n",
    "Output: false\n",
    "\n",
    "Example 4:\n",
    "\n",
    "Input: s = \"([])\"\n",
    "\n",
    "Output: true\n",
    "\n",
    "Example 5:\n",
    "\n",
    "Input: s = \"([)]\"\n",
    "\n",
    "Output: false"
   ]
  },
  {
   "cell_type": "code",
   "execution_count": 12,
   "id": "9be0357d",
   "metadata": {},
   "outputs": [
    {
     "name": "stdout",
     "output_type": "stream",
     "text": [
      "True\n"
     ]
    }
   ],
   "source": [
    "s=\"([)]\"\n",
    "def valid_paranthese(s):\n",
    "    stack=[]\n",
    "    bracket={')':'(','}':'{',']':'['}\n",
    "    \n",
    "    for char in s:\n",
    "        if char=='({[':\n",
    "            stack.append(char)\n",
    "        elif char==']})':\n",
    "            if not stack and stack[-1] != bracket[char]:\n",
    "                return False\n",
    "            stack.pop()\n",
    "            \n",
    "    return not stack\n",
    "\n",
    "print(valid_paranthese(s))       "
   ]
  },
  {
   "cell_type": "code",
   "execution_count": null,
   "id": "d27362e1",
   "metadata": {},
   "outputs": [],
   "source": []
  },
  {
   "cell_type": "raw",
   "id": "6e68aca7",
   "metadata": {},
   "source": [
    "Infix to Postfix\n",
    "\n",
    "You are given a string s representing an infix expression. Convert this infix expression to a postfix expression.\n",
    "\n",
    "Infix expression: The expression of the form a op b. When an operator is in between every pair of operands.\n",
    "Postfix expression: The expression of the form a b op. When an operator is followed for every pair of operands.\n",
    "Note: The precedence order is as follows: (^) has the highest precedence and is evaluated from right to left, (* and /) come next with left to right associativity, and (+ and -) have the lowest precedence with left to right associativity.\n",
    "\n",
    "Examples :\n",
    "\n",
    "Input: s = \"a*(b+c)/d\"\n",
    "Output: abc+*d/\n",
    "Explanation: The expression is a*(b+c)/d. First, inside the brackets, b+c becomes bc+. Now the expression looks like a*(bc+)/d. Next, multiply a with (bc+), so it becomes abc+* . Finally, divide this result by d, so it becomes abc+*d/.\n"
   ]
  },
  {
   "cell_type": "code",
   "execution_count": 14,
   "id": "80a02475",
   "metadata": {},
   "outputs": [
    {
     "name": "stdout",
     "output_type": "stream",
     "text": [
      "abc+*d/\n"
     ]
    }
   ],
   "source": [
    "s = \"a*(b+c)/d\"\n",
    "\n",
    "def precedence(op):\n",
    "    if op =='^':\n",
    "        return 3\n",
    "    elif op=='*' or op == '/':\n",
    "        return 2\n",
    "    elif op =='+' or op == '-':\n",
    "        return 1\n",
    "    else:\n",
    "        return 0\n",
    "\n",
    "def infix_postfix(s):\n",
    "    result=[]\n",
    "    stack=[]\n",
    "    \n",
    "    for char in s:\n",
    "        if char.isalnum():\n",
    "            result.append(char)\n",
    "        elif char =='(':\n",
    "            stack.append(char)\n",
    "        elif char==')':\n",
    "            while stack and stack[-1]!='(':\n",
    "                result.append(stack.pop())\n",
    "            stack.pop()\n",
    "        else:\n",
    "            while(stack and precedence(char)<=precedence(stack[-1])):\n",
    "                result.append(stack.pop())\n",
    "            stack.append(char)\n",
    "    while stack:\n",
    "        result.append(stack.pop())\n",
    "        \n",
    "    return ''.join(result)\n",
    "            \n",
    "        \n",
    "print(infix_postfix(s))"
   ]
  },
  {
   "cell_type": "code",
   "execution_count": null,
   "id": "550ac416",
   "metadata": {},
   "outputs": [],
   "source": []
  },
  {
   "cell_type": "raw",
   "id": "c3a8f632",
   "metadata": {},
   "source": [
    "Postfix to Infix Conversion\n",
    "\n",
    "You are given a string that represents the postfix form of a valid mathematical expression. Convert it to its infix form.\n",
    "\n",
    "Example:\n",
    "\n",
    "Input:\n",
    "ab*c+ \n",
    "Output: \n",
    "((a*b)+c)\n"
   ]
  },
  {
   "cell_type": "code",
   "execution_count": 16,
   "id": "f0e36f01",
   "metadata": {},
   "outputs": [
    {
     "name": "stdout",
     "output_type": "stream",
     "text": [
      "((a*b)+c)\n"
     ]
    }
   ],
   "source": [
    "s=\"ab*c+\"\n",
    "def postfix_infix(s):\n",
    "    stack=[]\n",
    "    for char in s:\n",
    "        if char.isalnum():\n",
    "            stack.append(char)\n",
    "        else:\n",
    "            operand2= stack.pop()\n",
    "            operand1= stack.pop()\n",
    "            new_exp=f'({operand1}{char}{operand2})'\n",
    "            stack.append(new_exp)\n",
    "            \n",
    "    return stack[-1]\n",
    "\n",
    "\n",
    "print(postfix_infix(s))\n",
    "    "
   ]
  },
  {
   "cell_type": "code",
   "execution_count": null,
   "id": "c9686283",
   "metadata": {},
   "outputs": [],
   "source": []
  }
 ],
 "metadata": {
  "kernelspec": {
   "display_name": "Python 3 (ipykernel)",
   "language": "python",
   "name": "python3"
  },
  "language_info": {
   "codemirror_mode": {
    "name": "ipython",
    "version": 3
   },
   "file_extension": ".py",
   "mimetype": "text/x-python",
   "name": "python",
   "nbconvert_exporter": "python",
   "pygments_lexer": "ipython3",
   "version": "3.10.9"
  }
 },
 "nbformat": 4,
 "nbformat_minor": 5
}
